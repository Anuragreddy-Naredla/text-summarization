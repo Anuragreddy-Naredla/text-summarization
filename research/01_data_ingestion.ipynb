{
 "cells": [
  {
   "cell_type": "code",
   "execution_count": 1,
   "source": [
    "import os\r\n",
    "%pwd"
   ],
   "outputs": [
    {
     "output_type": "execute_result",
     "data": {
      "text/plain": [
       "'d:\\\\personal_files\\\\python\\\\end_to_End_nlp_projects\\\\1_text_summarization\\\\__github__\\\\text-summarization\\\\research'"
      ]
     },
     "metadata": {},
     "execution_count": 1
    }
   ],
   "metadata": {}
  },
  {
   "cell_type": "code",
   "execution_count": 2,
   "source": [
    "os.chdir(\"../\")"
   ],
   "outputs": [],
   "metadata": {}
  },
  {
   "cell_type": "code",
   "execution_count": 3,
   "source": [
    "%pwd"
   ],
   "outputs": [
    {
     "output_type": "execute_result",
     "data": {
      "text/plain": [
       "'d:\\\\personal_files\\\\python\\\\end_to_End_nlp_projects\\\\1_text_summarization\\\\__github__\\\\text-summarization'"
      ]
     },
     "metadata": {},
     "execution_count": 3
    }
   ],
   "metadata": {}
  },
  {
   "cell_type": "code",
   "execution_count": 4,
   "source": [
    "from dataclasses import dataclass\r\n",
    "from pathlib import Path"
   ],
   "outputs": [],
   "metadata": {}
  },
  {
   "cell_type": "code",
   "execution_count": 5,
   "source": [
    "@dataclass(frozen=True)\r\n",
    "class DataIngestionConfig:\r\n",
    "    root_dir: Path\r\n",
    "    # source_URL: str\r\n",
    "    local_data_file: Path\r\n",
    "    unzip_dir: Path"
   ],
   "outputs": [],
   "metadata": {}
  },
  {
   "cell_type": "code",
   "execution_count": 6,
   "source": [
    "from textsummarization import constants\r\n",
    "from textsummarization.utils.common import read_yaml, create_directories\r\n"
   ],
   "outputs": [],
   "metadata": {}
  },
  {
   "cell_type": "code",
   "execution_count": 7,
   "source": [
    "class ConfigurationManager:\r\n",
    "    def __init__(self, config_file_path = constants.CONFIG_FILE_PATH, params_file_path = constants.PARAMS_FILE_PATH):\r\n",
    "        self.config = read_yaml(config_file_path)\r\n",
    "        self.params = read_yaml(params_file_path)\r\n",
    "        create_directories([self.config.artifacts_roots])\r\n",
    "    \r\n",
    "    def get_data_ingestion_config(self):\r\n",
    "        config = self.config.data_ingestion\r\n",
    "        create_directories([config.root_dir])\r\n",
    "        data_ingestion_config = DataIngestionConfig(\r\n",
    "            root_dir=config.root_dir, \r\n",
    "            # source_URL=config.source_URL,\r\n",
    "            local_data_file=config.local_data_file, \r\n",
    "            unzip_dir=config.unzip_dir)\r\n",
    "        return data_ingestion_config"
   ],
   "outputs": [],
   "metadata": {}
  },
  {
   "cell_type": "code",
   "execution_count": 8,
   "source": [
    "import os\r\n",
    "import zipfile\r\n",
    "from textsummarization.logging import logger\r\n",
    "from textsummarization.utils.common import get_size\r\n",
    "from urllib.request import urlretrieve"
   ],
   "outputs": [],
   "metadata": {}
  },
  {
   "cell_type": "code",
   "execution_count": 9,
   "source": [
    "class DataIngestion:\r\n",
    "    def __init__(self, config: DataIngestionConfig):\r\n",
    "        self.config = config\r\n",
    "    \r\n",
    "    # def download_file(self, ):\r\n",
    "    #     if not os.path.exists(self.config.local_data_file):\r\n",
    "    #         print(\"SOURCE_URL:::\", self.config.source_URL, self.config.local_data_file)\r\n",
    "    #         filename, headers = urlretrieve(\r\n",
    "    #             url = self.config.source_URL,\r\n",
    "    #             filename = self.config.local_data_file\r\n",
    "    #         )\r\n",
    "    #         logger.info(f\"{filename} download! with following info: \\n{headers}\")\r\n",
    "    #     else:\r\n",
    "    #         logger.info(f\"File already exists of size: {get_size(Path(self.config.local_data_file))}\")\r\n",
    "    \r\n",
    "    def extract_zip_file(self):\r\n",
    "        unzip_path = self.config.unzip_dir\r\n",
    "        os.makedirs(unzip_path, exist_ok=True)\r\n",
    "        with zipfile.ZipFile(self.config.local_data_file, 'r') as zip_ref:\r\n",
    "            zip_ref.extractall(unzip_path)"
   ],
   "outputs": [],
   "metadata": {}
  },
  {
   "cell_type": "code",
   "execution_count": 10,
   "source": [
    "try:\r\n",
    "    config = ConfigurationManager()\r\n",
    "    data_ingestion_config = config.get_data_ingestion_config()\r\n",
    "    data_ingestion = DataIngestion(config = data_ingestion_config)\r\n",
    "    # data_ingestion.download_file()\r\n",
    "    data_ingestion.extract_zip_file()\r\n",
    "except Exception as e:\r\n",
    "    print(\"eeeeeeeee:\", e)\r\n",
    "    raise e"
   ],
   "outputs": [
    {
     "output_type": "stream",
     "name": "stdout",
     "text": [
      "[2023-07-08 10:06:53,820: INFO: common: yaml file: config\\config.yaml loaded successfully]\n",
      "[2023-07-08 10:06:53,821: INFO: common: yaml file: params.yaml loaded successfully]\n",
      "[2023-07-08 10:06:53,822: INFO: common: Created directory at: artifacts]\n",
      "[2023-07-08 10:06:53,824: INFO: common: Created directory at: artifacts/data_ingestion]\n",
      "eeeeeeeee: __init__() got an unexpected keyword argument 'local_data_file'\n"
     ]
    },
    {
     "output_type": "error",
     "ename": "TypeError",
     "evalue": "__init__() got an unexpected keyword argument 'local_data_file'",
     "traceback": [
      "\u001b[1;31m---------------------------------------------------------------------------\u001b[0m",
      "\u001b[1;31mTypeError\u001b[0m                                 Traceback (most recent call last)",
      "Cell \u001b[1;32mIn[10], line 9\u001b[0m\n\u001b[0;32m      7\u001b[0m \u001b[38;5;28;01mexcept\u001b[39;00m \u001b[38;5;167;01mException\u001b[39;00m \u001b[38;5;28;01mas\u001b[39;00m e:\n\u001b[0;32m      8\u001b[0m     \u001b[38;5;28mprint\u001b[39m(\u001b[38;5;124m\"\u001b[39m\u001b[38;5;124meeeeeeeee:\u001b[39m\u001b[38;5;124m\"\u001b[39m, e)\n\u001b[1;32m----> 9\u001b[0m     \u001b[38;5;28;01mraise\u001b[39;00m e\n",
      "Cell \u001b[1;32mIn[10], line 3\u001b[0m\n\u001b[0;32m      1\u001b[0m \u001b[38;5;28;01mtry\u001b[39;00m:\n\u001b[0;32m      2\u001b[0m     config \u001b[38;5;241m=\u001b[39m ConfigurationManager()\n\u001b[1;32m----> 3\u001b[0m     data_ingestion_config \u001b[38;5;241m=\u001b[39m \u001b[43mconfig\u001b[49m\u001b[38;5;241;43m.\u001b[39;49m\u001b[43mget_data_ingestion_config\u001b[49m\u001b[43m(\u001b[49m\u001b[43m)\u001b[49m\n\u001b[0;32m      4\u001b[0m     data_ingestion \u001b[38;5;241m=\u001b[39m DataIngestion(config \u001b[38;5;241m=\u001b[39m data_ingestion_config)\n\u001b[0;32m      5\u001b[0m     \u001b[38;5;66;03m# data_ingestion.download_file()\u001b[39;00m\n",
      "Cell \u001b[1;32mIn[7], line 10\u001b[0m, in \u001b[0;36mConfigurationManager.get_data_ingestion_config\u001b[1;34m(self)\u001b[0m\n\u001b[0;32m      8\u001b[0m config \u001b[38;5;241m=\u001b[39m \u001b[38;5;28mself\u001b[39m\u001b[38;5;241m.\u001b[39mconfig\u001b[38;5;241m.\u001b[39mdata_ingestion\n\u001b[0;32m      9\u001b[0m create_directories([config\u001b[38;5;241m.\u001b[39mroot_dir])\n\u001b[1;32m---> 10\u001b[0m data_ingestion_config \u001b[38;5;241m=\u001b[39m \u001b[43mDataIngestionConfig\u001b[49m\u001b[43m(\u001b[49m\n\u001b[0;32m     11\u001b[0m \u001b[43m    \u001b[49m\u001b[43mroot_dir\u001b[49m\u001b[38;5;241;43m=\u001b[39;49m\u001b[43mconfig\u001b[49m\u001b[38;5;241;43m.\u001b[39;49m\u001b[43mroot_dir\u001b[49m\u001b[43m,\u001b[49m\u001b[43m \u001b[49m\n\u001b[0;32m     12\u001b[0m \u001b[43m    \u001b[49m\u001b[38;5;66;43;03m# source_URL=config.source_URL,\u001b[39;49;00m\n\u001b[0;32m     13\u001b[0m \u001b[43m    \u001b[49m\u001b[43mlocal_data_file\u001b[49m\u001b[38;5;241;43m=\u001b[39;49m\u001b[43mconfig\u001b[49m\u001b[38;5;241;43m.\u001b[39;49m\u001b[43mlocal_data_file\u001b[49m\u001b[43m,\u001b[49m\u001b[43m \u001b[49m\n\u001b[0;32m     14\u001b[0m \u001b[43m    \u001b[49m\u001b[43munzip_dir\u001b[49m\u001b[38;5;241;43m=\u001b[39;49m\u001b[43mconfig\u001b[49m\u001b[38;5;241;43m.\u001b[39;49m\u001b[43munzip_dir\u001b[49m\u001b[43m)\u001b[49m\n\u001b[0;32m     15\u001b[0m \u001b[38;5;28;01mreturn\u001b[39;00m data_ingestion_config\n",
      "\u001b[1;31mTypeError\u001b[0m: __init__() got an unexpected keyword argument 'local_data_file'"
     ]
    }
   ],
   "metadata": {}
  },
  {
   "cell_type": "code",
   "execution_count": null,
   "source": [],
   "outputs": [],
   "metadata": {}
  },
  {
   "cell_type": "code",
   "execution_count": null,
   "source": [],
   "outputs": [],
   "metadata": {}
  },
  {
   "cell_type": "code",
   "execution_count": null,
   "source": [],
   "outputs": [],
   "metadata": {}
  }
 ],
 "metadata": {
  "orig_nbformat": 4,
  "language_info": {
   "name": "python",
   "version": "3.9.6",
   "mimetype": "text/x-python",
   "codemirror_mode": {
    "name": "ipython",
    "version": 3
   },
   "pygments_lexer": "ipython3",
   "nbconvert_exporter": "python",
   "file_extension": ".py"
  },
  "kernelspec": {
   "name": "python3",
   "display_name": "Python 3.9.6 64-bit ('myenv': venv)"
  },
  "interpreter": {
   "hash": "4464cb5e0033a3ea7e76d137774f8f4d1b617d1887eaaaa3370170b8dddeb4e7"
  }
 },
 "nbformat": 4,
 "nbformat_minor": 2
}