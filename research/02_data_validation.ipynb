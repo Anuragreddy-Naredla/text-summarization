{
 "cells": [
  {
   "cell_type": "code",
   "execution_count": 1,
   "source": [
    "import os\r\n",
    "%pwd"
   ],
   "outputs": [
    {
     "output_type": "execute_result",
     "data": {
      "text/plain": [
       "'d:\\\\personal_files\\\\python\\\\end_to_End_nlp_projects\\\\1_text_summarization\\\\__github__\\\\text-summarization\\\\research'"
      ]
     },
     "metadata": {},
     "execution_count": 1
    }
   ],
   "metadata": {}
  },
  {
   "cell_type": "code",
   "execution_count": 2,
   "source": [
    "os.chdir(\"../\")"
   ],
   "outputs": [],
   "metadata": {}
  },
  {
   "cell_type": "code",
   "execution_count": 3,
   "source": [
    "%pwd"
   ],
   "outputs": [
    {
     "output_type": "execute_result",
     "data": {
      "text/plain": [
       "'d:\\\\personal_files\\\\python\\\\end_to_End_nlp_projects\\\\1_text_summarization\\\\__github__\\\\text-summarization'"
      ]
     },
     "metadata": {},
     "execution_count": 3
    }
   ],
   "metadata": {}
  },
  {
   "cell_type": "code",
   "execution_count": 4,
   "source": [
    "from dataclasses import dataclass\r\n",
    "from pathlib import Path\r\n",
    "\r\n",
    "@dataclass(frozen=True)\r\n",
    "class DataValidationConfig:\r\n",
    "    root_dir: Path\r\n",
    "    STATUS_FILE: str\r\n",
    "    ALL_REQUIRED_FILES: list"
   ],
   "outputs": [],
   "metadata": {}
  },
  {
   "cell_type": "code",
   "execution_count": 5,
   "source": [
    "from textsummarization import constants\r\n",
    "from textsummarization.utils.common import read_yaml, create_directories"
   ],
   "outputs": [],
   "metadata": {}
  },
  {
   "cell_type": "code",
   "execution_count": 6,
   "source": [
    "class ConfigurationManager:\r\n",
    "    def __init__(self, config_file_path = constants.CONFIG_FILE_PATH, params_file_path = constants.PARAMS_FILE_PATH):\r\n",
    "        self.config = read_yaml(config_file_path)\r\n",
    "        self.params = read_yaml(params_file_path)\r\n",
    "        create_directories([self.config.artifacts_roots])\r\n",
    "    \r\n",
    "    def get_validation_config(self):\r\n",
    "        config = self.config.data_validation\r\n",
    "        create_directories([config.root_dir])\r\n",
    "\r\n",
    "        data_validation_config = DataValidationConfig(\r\n",
    "            root_dir=config.root_dir, STATUS_FILE=config.STATUS_FILE, ALL_REQUIRED_FILES=config.ALL_REQUIRED_FILES\r\n",
    "        )\r\n",
    "        return data_validation_config"
   ],
   "outputs": [],
   "metadata": {}
  },
  {
   "cell_type": "code",
   "execution_count": null,
   "source": [
    "import os\r\n",
    "from textsummarization.logging import logger\r\n"
   ],
   "outputs": [],
   "metadata": {}
  },
  {
   "cell_type": "code",
   "execution_count": 7,
   "source": [
    "class DataValidation:\r\n",
    "    def __init__(self, config:DataValidationConfig):\r\n",
    "        self.config = config\r\n",
    "    \r\n",
    "    def validate_all_files_exists(self):\r\n",
    "        try:\r\n",
    "            validation_status = None\r\n",
    "\r\n",
    "            all_files = os.listdir(os.path.join(\"artifacts\", \"data_ingestion\", \"samsum_dataset\"))\r\n",
    "            for file in all_files:\r\n",
    "                if file not in self.config.ALL_REQUIRED_FILES:\r\n",
    "                    validation_status = False\r\n",
    "                    with open(self.config.STATUS_FILE, 'w') as f:\r\n",
    "                        f.write(f\"Validation status: {validation_status}\")\r\n",
    "                else:\r\n",
    "                    validation_status = True\r\n",
    "                    with open(self.config.STATUS_FILE, 'w') as f:\r\n",
    "                        f.write(f\"Validation status: {validation_status}\")\r\n",
    "            return validation_status\r\n",
    "        except Exception as e:\r\n",
    "            raise e"
   ],
   "outputs": [],
   "metadata": {}
  },
  {
   "cell_type": "code",
   "execution_count": 8,
   "source": [
    "try:\r\n",
    "    config = ConfigurationManager()\r\n",
    "    data_validation_config = config.get_validation_config()\r\n",
    "    data_validation = DataValidation(config = data_validation_config)\r\n",
    "    data_validation.validate_all_files_exists()\r\n",
    "except Exception as e:\r\n",
    "    raise e"
   ],
   "outputs": [
    {
     "output_type": "stream",
     "name": "stdout",
     "text": [
      "[2023-07-08 10:59:58,430: INFO: common: yaml file: config\\config.yaml loaded successfully]\n",
      "[2023-07-08 10:59:58,432: INFO: common: yaml file: params.yaml loaded successfully]\n",
      "[2023-07-08 10:59:58,433: INFO: common: Created directory at: artifacts]\n",
      "[2023-07-08 10:59:58,435: INFO: common: Created directory at: artifacts/data_validation]\n"
     ]
    }
   ],
   "metadata": {}
  },
  {
   "cell_type": "code",
   "execution_count": null,
   "source": [],
   "outputs": [],
   "metadata": {}
  },
  {
   "cell_type": "code",
   "execution_count": null,
   "source": [],
   "outputs": [],
   "metadata": {}
  }
 ],
 "metadata": {
  "orig_nbformat": 4,
  "language_info": {
   "name": "python",
   "version": "3.9.6",
   "mimetype": "text/x-python",
   "codemirror_mode": {
    "name": "ipython",
    "version": 3
   },
   "pygments_lexer": "ipython3",
   "nbconvert_exporter": "python",
   "file_extension": ".py"
  },
  "kernelspec": {
   "name": "python3",
   "display_name": "Python 3.9.6 64-bit ('myenv': venv)"
  },
  "interpreter": {
   "hash": "4464cb5e0033a3ea7e76d137774f8f4d1b617d1887eaaaa3370170b8dddeb4e7"
  }
 },
 "nbformat": 4,
 "nbformat_minor": 2
}