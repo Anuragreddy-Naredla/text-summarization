{
 "cells": [
  {
   "cell_type": "code",
   "execution_count": 1,
   "source": [
    "import os\r\n",
    "%pwd"
   ],
   "outputs": [
    {
     "output_type": "execute_result",
     "data": {
      "text/plain": [
       "'d:\\\\personal_files\\\\python\\\\end_to_End_nlp_projects\\\\1_text_summarization\\\\__github__\\\\text-summarization\\\\research'"
      ]
     },
     "metadata": {},
     "execution_count": 1
    }
   ],
   "metadata": {}
  },
  {
   "cell_type": "code",
   "execution_count": 2,
   "source": [
    "os.chdir(\"../\")"
   ],
   "outputs": [],
   "metadata": {}
  },
  {
   "cell_type": "code",
   "execution_count": 3,
   "source": [
    "%pwd"
   ],
   "outputs": [
    {
     "output_type": "execute_result",
     "data": {
      "text/plain": [
       "'d:\\\\personal_files\\\\python\\\\end_to_End_nlp_projects\\\\1_text_summarization\\\\__github__\\\\text-summarization'"
      ]
     },
     "metadata": {},
     "execution_count": 3
    }
   ],
   "metadata": {}
  },
  {
   "cell_type": "code",
   "execution_count": 4,
   "source": [
    "from dataclasses import dataclass\r\n",
    "from pathlib import Path\r\n",
    "\r\n",
    "@dataclass(frozen=True)\r\n",
    "class ModelTrainerConfig:\r\n",
    "    root_dir: Path\r\n",
    "    data_path: Path\r\n",
    "    model_ckpt: Path\r\n",
    "    num_train_epochs: int\r\n",
    "    warmup_steps: int\r\n",
    "    per_device_train_batch_size: int\r\n",
    "    weight_decay: float\r\n",
    "    logging_steps: int\r\n",
    "    evaluation_strategy: str\r\n",
    "    eval_steps: int\r\n",
    "    save_steps: float\r\n",
    "    gradient_accumulation_steps: int"
   ],
   "outputs": [],
   "metadata": {}
  },
  {
   "cell_type": "code",
   "execution_count": 5,
   "source": [
    "from textsummarization import constants\r\n",
    "from textsummarization.utils.common import read_yaml, create_directories"
   ],
   "outputs": [],
   "metadata": {}
  },
  {
   "cell_type": "code",
   "execution_count": 6,
   "source": [
    "class ConfigurationManager:\r\n",
    "    def __init__(self, config_file_path = constants.CONFIG_FILE_PATH, params_file_path = constants.PARAMS_FILE_PATH):\r\n",
    "        self.config = read_yaml(config_file_path)\r\n",
    "        self.params = read_yaml(params_file_path)\r\n",
    "        create_directories([self.config.artifacts_roots])\r\n",
    "    \r\n",
    "    def get_model_trainer_config(self):\r\n",
    "        config = self.config.model_trainer\r\n",
    "        params = self.params.TrainingArguments\r\n",
    "        create_directories([config.root_dir])\r\n",
    "\r\n",
    "        model_trainer_config = ModelTrainerConfig(\r\n",
    "            root_dir=config.root_dir, data_path = config.data_path, model_ckpt=config.model_ckpt, \r\n",
    "            num_train_epochs=params.num_train_epochs, warmup_steps=params.warmup_steps, \r\n",
    "            per_device_train_batch_size=params.per_device_train_batch_size, weight_decay=params.weight_decay, \r\n",
    "            logging_steps=params.logging_steps, evaluation_strategy=params.evaluation_strategy, \r\n",
    "            eval_steps=params.evaluation_strategy, save_steps=params.save_steps, \r\n",
    "            gradient_accumulation_steps=params.gradient_accumulation_steps\r\n",
    "        )\r\n",
    "        return model_trainer_config"
   ],
   "outputs": [],
   "metadata": {}
  },
  {
   "cell_type": "code",
   "execution_count": 7,
   "source": [
    "from transformers import TrainingArguments, Trainer\r\n",
    "from transformers import DataCollatorForSeq2Seq\r\n",
    "from transformers import AutoModelForSeq2SeqLM, AutoTokenizer\r\n",
    "from datasets import load_dataset, load_from_disk\r\n",
    "import torch"
   ],
   "outputs": [
    {
     "output_type": "stream",
     "name": "stderr",
     "text": [
      "d:\\personal_files\\python\\end_to_End_nlp_projects\\1_text_summarization\\__github__\\text-summarization\\myenv\\lib\\site-packages\\tqdm\\auto.py:21: TqdmWarning: IProgress not found. Please update jupyter and ipywidgets. See https://ipywidgets.readthedocs.io/en/stable/user_install.html\n",
      "  from .autonotebook import tqdm as notebook_tqdm\n"
     ]
    }
   ],
   "metadata": {}
  },
  {
   "cell_type": "code",
   "execution_count": 8,
   "source": [
    "class ModelTrainer:\r\n",
    "    def __init__(self, config: ModelTrainerConfig):\r\n",
    "        self.config = config\r\n",
    "    \r\n",
    "    def train(self, ):\r\n",
    "        device = \"cuda\" if torch.cuda.is_available() else \"cpu\"\r\n",
    "        print(\"model_ckpt:\", self.config)\r\n",
    "        print(\"model____:\", self.config.model_ckpt)\r\n",
    "        tokenizer = AutoTokenizer.from_pretrained(self.config.model_ckpt)\r\n",
    "        model_pegasus = AutoModelForSeq2SeqLM.from_pretrained(self.config.model_ckpt).to(device)\r\n",
    "        seq2seq_data_collator = DataCollatorForSeq2Seq(tokenizer=tokenizer, model=model_pegasus)\r\n",
    "        dataset_samsum_pt = load_from_disk(self.config.data_path)\r\n",
    "\r\n",
    "        # trainer_args = TrainingArguments(\r\n",
    "        #     output_dir=self.config.root_dir, num_train_epochs=self.config.num_train_epochs, warmup_steps=self.config.warmup_steps,\r\n",
    "        #     per_device_train_batch_size=self.config.per_device_train_batch_size, per_device_eval_batch_size=self.config.per_device_train_batch_size,\r\n",
    "        #     weight_decay=self.config.weight_decay, logging_steps=self.config.logging_steps, evaluation_strategy=self.config.evaluation_strategy,\r\n",
    "        #     eval_steps=self.config.eval_steps, save_steps=self.config.eval_steps, gradient_accumulation_steps=self.config.gradient_accumulation_steps\r\n",
    "        # )\r\n",
    "        trainer_args = TrainingArguments(\r\n",
    "            output_dir=self.config.root_dir, num_train_epochs=1, warmup_steps=500, per_device_train_batch_size=1,\r\n",
    "            per_device_eval_batch_size=1, weight_decay=0.01, logging_steps=10, evaluation_strategy='steps', eval_steps=500,\r\n",
    "            save_steps=1e6, gradient_accumulation_steps=16\r\n",
    "        )\r\n",
    "\r\n",
    "        trainer = Trainer(\r\n",
    "            model = model_pegasus, args = trainer_args, tokenizer = tokenizer, data_collator=seq2seq_data_collator,\r\n",
    "            train_dataset = dataset_samsum_pt[\"test\"], eval_dataset = dataset_samsum_pt[\"validation\"]\r\n",
    "\r\n",
    "        )\r\n",
    "        trainer.train()\r\n",
    "\r\n",
    "        model_pegasus.save_pretrained(os.path.join(self.config.root_dir, \"pegasus-samsum-model\"))\r\n",
    "\r\n",
    "        tokenizer.save_pretrained(os.path.join(self.config.root_dir, \"tokenizer\"))\r\n"
   ],
   "outputs": [],
   "metadata": {}
  },
  {
   "cell_type": "code",
   "execution_count": 9,
   "source": [
    "try:\r\n",
    "    config = ConfigurationManager()\r\n",
    "    model_trainer_config = config.get_model_trainer_config()\r\n",
    "    model_trainer_config = ModelTrainer(config = model_trainer_config)\r\n",
    "    model_trainer_config.train()\r\n",
    "except Exception as e:\r\n",
    "    raise e"
   ],
   "outputs": [
    {
     "output_type": "stream",
     "name": "stdout",
     "text": [
      "[2023-07-08 13:01:55,906: INFO: common: yaml file: config\\config.yaml loaded successfully]\n",
      "[2023-07-08 13:01:55,906: INFO: common: yaml file: params.yaml loaded successfully]\n",
      "[2023-07-08 13:01:55,906: INFO: common: Created directory at: artifacts]\n",
      "[2023-07-08 13:01:55,906: INFO: common: Created directory at: artifacts/model_trainer]\n",
      "model_ckpt: ModelTrainerConfig(root_dir='artifacts/model_trainer', data_path='artifacts/data_transformation/samsum_dataset', model_ckpt='google/pegasus-cnn_dailymail', num_train_epochs=1, warmup_steps=500, per_device_train_batch_size=1, weight_decay=0.01, logging_steps=10, evaluation_strategy='steps', eval_steps='steps', save_steps='1e6', gradient_accumulation_steps=16)\n",
      "model____: google/pegasus-cnn_dailymail\n"
     ]
    },
    {
     "output_type": "stream",
     "name": "stderr",
     "text": [
      "d:\\personal_files\\python\\end_to_End_nlp_projects\\1_text_summarization\\__github__\\text-summarization\\myenv\\lib\\site-packages\\transformers\\optimization.py:411: FutureWarning: This implementation of AdamW is deprecated and will be removed in a future version. Use the PyTorch implementation torch.optim.AdamW instead, or set `no_deprecation_warning=True` to disable this warning\n",
      "  warnings.warn(\n",
      "  0%|          | 0/51 [00:00<?, ?it/s]You're using a PegasusTokenizerFast tokenizer. Please note that with a fast tokenizer, using the `__call__` method is faster than using a method to encode the text followed by a call to the `pad` method to get a padded encoding.\n",
      " 20%|█▉        | 10/51 [07:54<33:15, 48.66s/it]"
     ]
    },
    {
     "output_type": "stream",
     "name": "stdout",
     "text": [
      "{'loss': 3.3137, 'learning_rate': 1.0000000000000002e-06, 'epoch': 0.2}\n"
     ]
    },
    {
     "output_type": "stream",
     "name": "stderr",
     "text": [
      " 39%|███▉      | 20/51 [15:21<23:08, 44.78s/it]"
     ]
    },
    {
     "output_type": "stream",
     "name": "stdout",
     "text": [
      "{'loss': 3.1, 'learning_rate': 2.0000000000000003e-06, 'epoch': 0.39}\n"
     ]
    },
    {
     "output_type": "stream",
     "name": "stderr",
     "text": [
      " 59%|█████▉    | 30/51 [22:40<14:43, 42.08s/it]"
     ]
    },
    {
     "output_type": "stream",
     "name": "stdout",
     "text": [
      "{'loss': 3.0838, 'learning_rate': 3e-06, 'epoch': 0.59}\n"
     ]
    },
    {
     "output_type": "stream",
     "name": "stderr",
     "text": [
      " 78%|███████▊  | 40/51 [29:47<07:48, 42.55s/it]"
     ]
    },
    {
     "output_type": "stream",
     "name": "stdout",
     "text": [
      "{'loss': 2.9817, 'learning_rate': 4.000000000000001e-06, 'epoch': 0.78}\n"
     ]
    },
    {
     "output_type": "stream",
     "name": "stderr",
     "text": [
      " 98%|█████████▊| 50/51 [37:08<00:39, 39.70s/it]"
     ]
    },
    {
     "output_type": "stream",
     "name": "stdout",
     "text": [
      "{'loss': 3.1026, 'learning_rate': 5e-06, 'epoch': 0.98}\n"
     ]
    },
    {
     "output_type": "stream",
     "name": "stderr",
     "text": [
      "100%|██████████| 51/51 [38:02<00:00, 44.75s/it]\n"
     ]
    },
    {
     "output_type": "stream",
     "name": "stdout",
     "text": [
      "{'train_runtime': 2282.2377, 'train_samples_per_second': 0.359, 'train_steps_per_second': 0.022, 'train_loss': 3.1163070435617484, 'epoch': 1.0}\n"
     ]
    }
   ],
   "metadata": {}
  },
  {
   "cell_type": "code",
   "execution_count": null,
   "source": [],
   "outputs": [],
   "metadata": {}
  },
  {
   "cell_type": "code",
   "execution_count": null,
   "source": [],
   "outputs": [],
   "metadata": {}
  }
 ],
 "metadata": {
  "orig_nbformat": 4,
  "language_info": {
   "name": "python",
   "version": "3.9.6",
   "mimetype": "text/x-python",
   "codemirror_mode": {
    "name": "ipython",
    "version": 3
   },
   "pygments_lexer": "ipython3",
   "nbconvert_exporter": "python",
   "file_extension": ".py"
  },
  "kernelspec": {
   "name": "python3",
   "display_name": "Python 3.9.6 64-bit ('myenv': venv)"
  },
  "interpreter": {
   "hash": "4464cb5e0033a3ea7e76d137774f8f4d1b617d1887eaaaa3370170b8dddeb4e7"
  }
 },
 "nbformat": 4,
 "nbformat_minor": 2
}